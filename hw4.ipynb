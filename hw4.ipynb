{
 "cells": [
  {
   "cell_type": "code",
   "execution_count": 23,
   "id": "d71936d3",
   "metadata": {},
   "outputs": [],
   "source": [
    "import numpy as np"
   ]
  },
  {
   "cell_type": "code",
   "execution_count": 43,
   "id": "6baac771",
   "metadata": {},
   "outputs": [],
   "source": [
    "def get_my_chosun_name(name, month, day):\n",
    "    # 태어난 달과 날짜에 해당하는 리스트 생성\n",
    "    months = ['쌍', '쇠', '복', '돌', '팽', '육', '쌍', '개', '칠', '갑', '삼', '방']\n",
    "    days = ['봉', '구', '욕', '포', '똥', '삼', '식', '석', '놈', '님', '년', '돌', '단', '득', '방', '질', '장', '걸', '래', '룡', '동', '순', '자', '박', '창', '언', '것', '포', '만', '단', '국']\n",
    "\n",
    "    # 태어난 달과 날짜에 해당하는 이름을 가져옴\n",
    "    month = months[month - 1]\n",
    "    day = days[day - 1]\n",
    "\n",
    "    # 조선시대 이름을 생성\n",
    "    chosun_name = name + month + day\n",
    "\n",
    "    return f'당신의 조선시대 이름은 {chosun_name} 입니다.'"
   ]
  },
  {
   "cell_type": "code",
   "execution_count": 44,
   "id": "3dbfb5e3",
   "metadata": {},
   "outputs": [
    {
     "name": "stdout",
     "output_type": "stream",
     "text": [
      "당신의 조선시대 이름은 김쇠포 입니다.\n"
     ]
    }
   ],
   "source": [
    "# 예시\n",
    "my_chosun_name = get_my_chosun_name('김', 2, 28)\n",
    "print(my_chosun_name)"
   ]
  },
  {
   "cell_type": "code",
   "execution_count": null,
   "id": "2a9f5ce6",
   "metadata": {},
   "outputs": [],
   "source": []
  }
 ],
 "metadata": {
  "kernelspec": {
   "display_name": "Python 3 (ipykernel)",
   "language": "python",
   "name": "python3"
  },
  "language_info": {
   "codemirror_mode": {
    "name": "ipython",
    "version": 3
   },
   "file_extension": ".py",
   "mimetype": "text/x-python",
   "name": "python",
   "nbconvert_exporter": "python",
   "pygments_lexer": "ipython3",
   "version": "3.9.12"
  }
 },
 "nbformat": 4,
 "nbformat_minor": 5
}
